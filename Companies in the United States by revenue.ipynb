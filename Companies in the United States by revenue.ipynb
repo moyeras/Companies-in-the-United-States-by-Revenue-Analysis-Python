{
 "cells": [
  {
   "cell_type": "code",
   "execution_count": 27,
   "id": "b009ec01-ffe0-40d9-b315-6a51cd698b85",
   "metadata": {},
   "outputs": [],
   "source": [
    "# Scraping Data from a Real Website + Pandas"
   ]
  },
  {
   "cell_type": "code",
   "execution_count": 52,
   "id": "a55e1b99-65d9-4978-9a75-d6f57be3edc0",
   "metadata": {},
   "outputs": [],
   "source": [
    "from bs4 import BeautifulSoup\n",
    "import requests\n",
    "import pandas as pd"
   ]
  },
  {
   "cell_type": "code",
   "execution_count": 54,
   "id": "4f97f99d-55ea-42d3-b13d-950e32be48d4",
   "metadata": {},
   "outputs": [],
   "source": [
    "url = 'https://en.wikipedia.org/wiki/List_of_largest_companies_in_the_United_States_by_revenue'\n",
    "page = requests.get(url)"
   ]
  },
  {
   "cell_type": "code",
   "execution_count": 56,
   "id": "510c1e73-f393-49b9-a929-be367c0a5e06",
   "metadata": {},
   "outputs": [],
   "source": [
    "soup = BeautifulSoup(page.text, 'html.parser')"
   ]
  },
  {
   "cell_type": "code",
   "execution_count": 58,
   "id": "b638efcb-8d7d-4ca9-a761-ffcb05094ae2",
   "metadata": {},
   "outputs": [],
   "source": [
    "table = soup.find('table', class_='wikitable sortable')"
   ]
  },
  {
   "cell_type": "code",
   "execution_count": 60,
   "id": "2c3f4892-d227-4511-9495-1fb7c87a2aff",
   "metadata": {},
   "outputs": [],
   "source": [
    "world_titles = table.find_all('th')\n",
    "world_table_titles = [title.text.strip() for title in world_titles]"
   ]
  },
  {
   "cell_type": "code",
   "execution_count": 62,
   "id": "e8822af3-e4cd-4a6f-94ec-c95f5e96897d",
   "metadata": {},
   "outputs": [],
   "source": [
    "df = pd.DataFrame(columns=world_table_titles)"
   ]
  },
  {
   "cell_type": "code",
   "execution_count": 64,
   "id": "0ca67bdf-157e-4fef-82cd-6273fe318a4f",
   "metadata": {},
   "outputs": [
    {
     "name": "stdout",
     "output_type": "stream",
     "text": [
      "Number of rows found: 101\n"
     ]
    }
   ],
   "source": [
    "rows = table.find_all('tr')\n",
    "print(f\"Number of rows found: {len(rows)}\")"
   ]
  },
  {
   "cell_type": "code",
   "execution_count": 66,
   "id": "1e283a6a-b8a1-4ac1-b6d5-b832ec1dac98",
   "metadata": {},
   "outputs": [],
   "source": [
    "for row in rows[1:]:  \n",
    "    row_data = row.find_all('td')\n",
    "    individual_row_data = [data.text.strip() for data in row_data]\n",
    "    if individual_row_data:  \n",
    "        df.loc[len(df)] = individual_row_data[:len(world_table_titles)]  \n",
    "\n"
   ]
  },
  {
   "cell_type": "code",
   "execution_count": 68,
   "id": "8cc8c630-0e74-44aa-847e-24eed245e081",
   "metadata": {},
   "outputs": [
    {
     "name": "stdout",
     "output_type": "stream",
     "text": [
      "Number of rows in DataFrame: 100\n"
     ]
    }
   ],
   "source": [
    "print(f\"Number of rows in DataFrame: {len(df)}\") "
   ]
  },
  {
   "cell_type": "code",
   "execution_count": 70,
   "id": "0a954223-efa8-4f1f-8169-eee002ea3e76",
   "metadata": {},
   "outputs": [],
   "source": [
    "df.to_csv(r'C:\\Users\\yusuf\\OneDrive\\Masaüstü\\Portfolio\\Companies.csv', index=False)"
   ]
  },
  {
   "cell_type": "code",
   "execution_count": 49,
   "id": "63dd4f43-3575-4364-ae04-b7c9b0726706",
   "metadata": {},
   "outputs": [
    {
     "name": "stdout",
     "output_type": "stream",
     "text": [
      "   Rank                  Name                        Industry  \\\n",
      "0     1               Walmart                          Retail   \n",
      "1     2                Amazon      Retail and cloud computing   \n",
      "2     3                 Apple            Electronics industry   \n",
      "3     4    UnitedHealth Group                      Healthcare   \n",
      "4     5    Berkshire Hathaway                    Conglomerate   \n",
      "5     6            CVS Health                      Healthcare   \n",
      "6     7            ExxonMobil              Petroleum industry   \n",
      "7     8              Alphabet  Technology and cloud computing   \n",
      "8     9  McKesson Corporation                          Health   \n",
      "9    10               Cencora              Pharmacy wholesale   \n",
      "10   11                Costco                          Retail   \n",
      "11   12        JPMorgan Chase              Financial services   \n",
      "12   13             Microsoft  Technology and cloud computing   \n",
      "13   14       Cardinal Health                      Healthcare   \n",
      "14   15   Chevron Corporation              Petroleum industry   \n",
      "15   16                 Cigna                Health insurance   \n",
      "16   17    Ford Motor Company             Automotive industry   \n",
      "17   18       Bank of America                      Financials   \n",
      "18   19        General Motors             Automotive industry   \n",
      "19   20       Elevance Health                      Healthcare   \n",
      "\n",
      "   Revenue (USD millions) Revenue growth  Employees  \\\n",
      "0                 648,125           6.0%  2,100,000   \n",
      "1                 574,785          11.9%  1,525,000   \n",
      "2                 383,482          -2.8%    161,000   \n",
      "3                 371,622          14.6%    440,000   \n",
      "4                 364,482          20.7%    396,500   \n",
      "5                 357,776          10.9%    259,500   \n",
      "6                 344,582         -16.7%     61,500   \n",
      "7                 307,394           8.7%    182,502   \n",
      "8                 276,711           4.8%     48,000   \n",
      "9                 262,173           9.9%     44,000   \n",
      "10                242,290           6.8%    316,000   \n",
      "11                239,425          54.7%    309,926   \n",
      "12                211,915           6.9%    221,000   \n",
      "13                205,012          13.0%     47,520   \n",
      "14                200,949         -18.4%     45,600   \n",
      "15                195,265           8.2%     71,413   \n",
      "16                176,191          11.5%    177,000   \n",
      "17                171,912          49.4%    212,985   \n",
      "18                171,842           9.6%    163,000   \n",
      "19                171,340           9.4%    104,900   \n",
      "\n",
      "                  Headquarters  \n",
      "0        Bentonville, Arkansas  \n",
      "1          Seattle, Washington  \n",
      "2        Cupertino, California  \n",
      "3        Minnetonka, Minnesota  \n",
      "4              Omaha, Nebraska  \n",
      "5     Woonsocket, Rhode Island  \n",
      "6                Spring, Texas  \n",
      "7    Mountain View, California  \n",
      "8                Irving, Texas  \n",
      "9   Conshohocken, Pennsylvania  \n",
      "10        Issaquah, Washington  \n",
      "11     New York City, New York  \n",
      "12         Redmond, Washington  \n",
      "13                Dublin, Ohio  \n",
      "14       San Ramon, California  \n",
      "15     Bloomfield, Connecticut  \n",
      "16          Dearborn, Michigan  \n",
      "17   Charlotte, North Carolina  \n",
      "18           Detroit, Michigan  \n",
      "19       Indianapolis, Indiana  \n"
     ]
    }
   ],
   "source": [
    "print(df.head(20))"
   ]
  },
  {
   "cell_type": "code",
   "execution_count": null,
   "id": "cbb2930e-b79c-4f0f-9526-4cd13aad1a45",
   "metadata": {},
   "outputs": [],
   "source": []
  },
  {
   "cell_type": "code",
   "execution_count": null,
   "id": "6205bcff-cd07-409e-9613-46a7a62fc2ba",
   "metadata": {},
   "outputs": [],
   "source": []
  }
 ],
 "metadata": {
  "kernelspec": {
   "display_name": "Python 3 (ipykernel)",
   "language": "python",
   "name": "python3"
  },
  "language_info": {
   "codemirror_mode": {
    "name": "ipython",
    "version": 3
   },
   "file_extension": ".py",
   "mimetype": "text/x-python",
   "name": "python",
   "nbconvert_exporter": "python",
   "pygments_lexer": "ipython3",
   "version": "3.12.4"
  }
 },
 "nbformat": 4,
 "nbformat_minor": 5
}
